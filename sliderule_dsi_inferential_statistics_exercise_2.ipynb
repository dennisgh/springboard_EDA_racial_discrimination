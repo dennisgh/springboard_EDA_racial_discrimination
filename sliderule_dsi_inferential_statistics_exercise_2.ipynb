{
 "cells": [
  {
   "cell_type": "markdown",
   "metadata": {},
   "source": [
    "# Examining Racial Discrimination in the US Job Market\n",
    "\n",
    "### Background\n",
    "Racial discrimination continues to be pervasive in cultures throughout the world. Researchers examined the level of racial discrimination in the United States labor market by randomly assigning identical résumés to black-sounding or white-sounding names and observing the impact on requests for interviews from employers.\n",
    "\n",
    "### Data\n",
    "In the dataset provided, each row represents a resume. The 'race' column has two values, 'b' and 'w', indicating black-sounding and white-sounding. The column 'call' has two values, 1 and 0, indicating whether the resume received a call from employers or not.\n",
    "\n",
    "Note that the 'b' and 'w' values in race are assigned randomly to the resumes when presented to the employer."
   ]
  },
  {
   "cell_type": "markdown",
   "metadata": {},
   "source": [
    "### Exercises\n",
    "You will perform a statistical analysis to establish whether race has a significant impact on the rate of callbacks for resumes.\n",
    "\n",
    "Answer the following questions **in this notebook below and submit to your Github account**. \n",
    "\n",
    "   1. What test is appropriate for this problem? Does CLT apply?\n",
    "   2. What are the null and alternate hypotheses?\n",
    "   3. Compute margin of error, confidence interval, and p-value. Try using both the bootstrapping and the frequentist statistical approaches.\n",
    "   4. Write a story describing the statistical significance in the context or the original problem.\n",
    "   5. Does your analysis mean that race/name is the most important factor in callback success? Why or why not? If not, how would you amend your analysis?\n",
    "\n",
    "You can include written notes in notebook cells using Markdown: \n",
    "   - In the control panel at the top, choose Cell > Cell Type > Markdown\n",
    "   - Markdown syntax: http://nestacms.com/docs/creating-content/markdown-cheat-sheet\n",
    "\n",
    "#### Resources\n",
    "+ Experiment information and data source: http://www.povertyactionlab.org/evaluation/discrimination-job-market-united-states\n",
    "+ Scipy statistical methods: http://docs.scipy.org/doc/scipy/reference/stats.html \n",
    "+ Markdown syntax: http://nestacms.com/docs/creating-content/markdown-cheat-sheet\n",
    "+ Formulas for the Bernoulli distribution: https://en.wikipedia.org/wiki/Bernoulli_distribution"
   ]
  },
  {
   "cell_type": "code",
   "execution_count": 1,
   "metadata": {},
   "outputs": [],
   "source": [
    "import pandas as pd\n",
    "import numpy as np\n",
    "from scipy import stats"
   ]
  },
  {
   "cell_type": "code",
   "execution_count": 2,
   "metadata": {},
   "outputs": [],
   "source": [
    "data = pd.io.stata.read_stata('data/us_job_market_discrimination.dta')"
   ]
  },
  {
   "cell_type": "code",
   "execution_count": 3,
   "metadata": {},
   "outputs": [
    {
     "name": "stdout",
     "output_type": "stream",
     "text": [
      "black:  157.0\n",
      "white:  235.0\n"
     ]
    }
   ],
   "source": [
    "# number of callbacks for black-sounding names\n",
    "print('black: ',sum(data[data.race=='b'].call))\n",
    "print('white: ',sum(data[data.race=='w'].call))"
   ]
  },
  {
   "cell_type": "code",
   "execution_count": 4,
   "metadata": {},
   "outputs": [
    {
     "data": {
      "text/html": [
       "<div>\n",
       "<style scoped>\n",
       "    .dataframe tbody tr th:only-of-type {\n",
       "        vertical-align: middle;\n",
       "    }\n",
       "\n",
       "    .dataframe tbody tr th {\n",
       "        vertical-align: top;\n",
       "    }\n",
       "\n",
       "    .dataframe thead th {\n",
       "        text-align: right;\n",
       "    }\n",
       "</style>\n",
       "<table border=\"1\" class=\"dataframe\">\n",
       "  <thead>\n",
       "    <tr style=\"text-align: right;\">\n",
       "      <th></th>\n",
       "      <th>id</th>\n",
       "      <th>ad</th>\n",
       "      <th>education</th>\n",
       "      <th>ofjobs</th>\n",
       "      <th>yearsexp</th>\n",
       "      <th>honors</th>\n",
       "      <th>volunteer</th>\n",
       "      <th>military</th>\n",
       "      <th>empholes</th>\n",
       "      <th>occupspecific</th>\n",
       "      <th>...</th>\n",
       "      <th>compreq</th>\n",
       "      <th>orgreq</th>\n",
       "      <th>manuf</th>\n",
       "      <th>transcom</th>\n",
       "      <th>bankreal</th>\n",
       "      <th>trade</th>\n",
       "      <th>busservice</th>\n",
       "      <th>othservice</th>\n",
       "      <th>missind</th>\n",
       "      <th>ownership</th>\n",
       "    </tr>\n",
       "  </thead>\n",
       "  <tbody>\n",
       "    <tr>\n",
       "      <th>0</th>\n",
       "      <td>b</td>\n",
       "      <td>1</td>\n",
       "      <td>4</td>\n",
       "      <td>2</td>\n",
       "      <td>6</td>\n",
       "      <td>0</td>\n",
       "      <td>0</td>\n",
       "      <td>0</td>\n",
       "      <td>1</td>\n",
       "      <td>17</td>\n",
       "      <td>...</td>\n",
       "      <td>1.0</td>\n",
       "      <td>0.0</td>\n",
       "      <td>1.0</td>\n",
       "      <td>0.0</td>\n",
       "      <td>0.0</td>\n",
       "      <td>0.0</td>\n",
       "      <td>0.0</td>\n",
       "      <td>0.0</td>\n",
       "      <td>0.0</td>\n",
       "      <td></td>\n",
       "    </tr>\n",
       "    <tr>\n",
       "      <th>1</th>\n",
       "      <td>b</td>\n",
       "      <td>1</td>\n",
       "      <td>3</td>\n",
       "      <td>3</td>\n",
       "      <td>6</td>\n",
       "      <td>0</td>\n",
       "      <td>1</td>\n",
       "      <td>1</td>\n",
       "      <td>0</td>\n",
       "      <td>316</td>\n",
       "      <td>...</td>\n",
       "      <td>1.0</td>\n",
       "      <td>0.0</td>\n",
       "      <td>1.0</td>\n",
       "      <td>0.0</td>\n",
       "      <td>0.0</td>\n",
       "      <td>0.0</td>\n",
       "      <td>0.0</td>\n",
       "      <td>0.0</td>\n",
       "      <td>0.0</td>\n",
       "      <td></td>\n",
       "    </tr>\n",
       "    <tr>\n",
       "      <th>2</th>\n",
       "      <td>b</td>\n",
       "      <td>1</td>\n",
       "      <td>4</td>\n",
       "      <td>1</td>\n",
       "      <td>6</td>\n",
       "      <td>0</td>\n",
       "      <td>0</td>\n",
       "      <td>0</td>\n",
       "      <td>0</td>\n",
       "      <td>19</td>\n",
       "      <td>...</td>\n",
       "      <td>1.0</td>\n",
       "      <td>0.0</td>\n",
       "      <td>1.0</td>\n",
       "      <td>0.0</td>\n",
       "      <td>0.0</td>\n",
       "      <td>0.0</td>\n",
       "      <td>0.0</td>\n",
       "      <td>0.0</td>\n",
       "      <td>0.0</td>\n",
       "      <td></td>\n",
       "    </tr>\n",
       "  </tbody>\n",
       "</table>\n",
       "<p>3 rows × 65 columns</p>\n",
       "</div>"
      ],
      "text/plain": [
       "  id ad  education  ofjobs  yearsexp  honors  volunteer  military  empholes  \\\n",
       "0  b  1          4       2         6       0          0         0         1   \n",
       "1  b  1          3       3         6       0          1         1         0   \n",
       "2  b  1          4       1         6       0          0         0         0   \n",
       "\n",
       "   occupspecific  ...  compreq  orgreq  manuf  transcom  bankreal trade  \\\n",
       "0             17  ...      1.0     0.0    1.0       0.0       0.0   0.0   \n",
       "1            316  ...      1.0     0.0    1.0       0.0       0.0   0.0   \n",
       "2             19  ...      1.0     0.0    1.0       0.0       0.0   0.0   \n",
       "\n",
       "  busservice othservice  missind  ownership  \n",
       "0        0.0        0.0      0.0             \n",
       "1        0.0        0.0      0.0             \n",
       "2        0.0        0.0      0.0             \n",
       "\n",
       "[3 rows x 65 columns]"
      ]
     },
     "execution_count": 4,
     "metadata": {},
     "output_type": "execute_result"
    }
   ],
   "source": [
    "data.head(3)"
   ]
  },
  {
   "cell_type": "markdown",
   "metadata": {
    "collapsed": true
   },
   "source": [
    "<div class=\"span5 alert alert-success\">\n",
    "<p>\n",
    "<h1>Answer 1</h1>    \n",
    "<br>\n",
    "    The trials (sending a resume, receiving a callback or not) are <b> Bernoulli Trials </b> as they are independent and result in a binary outcome. The data therefore follows a binomial distribution.<br>\n",
    "    The Central Limit Theorem does not apply, because we are not comparing series of Bernoulli Trials (we are not interested in how many \"sets of 4 applications\" yield 1, 2, 3 or 4 callbacks).<br>\n",
    "    To compare two binomial samples we will apply the Chi-Squared 2x2 test (2 categories, 2 outcomes), available as <code>scipy.stats.chi2_contingency</code>.\n",
    "\n",
    "\n",
    "<h1>Answer 2</h1>\n",
    "<br>\n",
    "<b>H0:</b> Call-back rate and name-category are independent variables. Ie. the rate does not differ between white or black names.<br>\n",
    "<b>H1:</b> Call-back rate and name-category are dependent variables. Ie. the rate differs between white or black names<br>This would be a two-sided test (either rate could be higher than the other).\n",
    "</p>\n",
    "</div>"
   ]
  },
  {
   "cell_type": "code",
   "execution_count": 5,
   "metadata": {},
   "outputs": [
    {
     "name": "stdout",
     "output_type": "stream",
     "text": [
      "White callback rate 9.7%: 235 calls on a 2435 sample\n",
      "Black callback rate 6.4%: 157 calls on a 2435 sample\n"
     ]
    }
   ],
   "source": [
    "# write logic as definitions to re-use in bootstrapping\n",
    "def split_w_b(sample):\n",
    "    '''returns data split as white, black'''\n",
    "    return sample[sample.race=='w'], sample[sample.race=='b']\n",
    "\n",
    "def calc_sample_size_and_callback_rate(sample):\n",
    "    callb = sample[sample.call == 1.0]\n",
    "    sample_size = len(sample)\n",
    "    return sample_size, len(callb)/sample_size\n",
    "\n",
    "w, b = split_w_b(data)\n",
    "\n",
    "w_callb = len(w[w.call == 1.0])\n",
    "b_callb = len(b[b.call == 1.0])\n",
    "\n",
    "sample_size_w, callback_rate_w = calc_sample_size_and_callback_rate(w)\n",
    "sample_size_b, callback_rate_b = calc_sample_size_and_callback_rate(b)\n",
    "\n",
    "print(('White callback rate %.1f%%: %.0f calls on a %.0f sample') % (\n",
    "    callback_rate_w*100, w_callb, sample_size_w))\n",
    "print(('Black callback rate %.1f%%: %.0f calls on a %.0f sample') % (\n",
    "    callback_rate_b*100, b_callb, sample_size_b))"
   ]
  },
  {
   "cell_type": "code",
   "execution_count": 6,
   "metadata": {},
   "outputs": [
    {
     "name": "stdout",
     "output_type": "stream",
     "text": [
      "the p-value is 0.00\n",
      "the p-value is less than 0.05. REJECT the H0.\n"
     ]
    }
   ],
   "source": [
    "# Frequentist approach: Chi-squared 2x2 test.\n",
    "\n",
    "callbacks = np.array(\n",
    "    [[w_callb, sample_size_w - w_callb],   #white callback, no callback\n",
    "     [b_callb, sample_size_b - b_callb]])  #black callback, no callback\n",
    "\n",
    "chisquared, pvalue, dof, expfreq = stats.chi2_contingency(callbacks)\n",
    "\n",
    "print('the p-value is %.2f' % pvalue)\n",
    "if pvalue < 0.05:\n",
    "    print('the p-value is less than 0.05. REJECT the H0.')\n",
    "else:\n",
    "    print('the p-value is more than 0.05. ACCEPT the H0.')"
   ]
  },
  {
   "cell_type": "code",
   "execution_count": 7,
   "metadata": {},
   "outputs": [
    {
     "name": "stdout",
     "output_type": "stream",
     "text": [
      "the p-value is 0.00 and the 95% confidence interval is [0.01662218 0.04722793]\n"
     ]
    }
   ],
   "source": [
    "# Bootstrapping method\n",
    "# The variable to be analyzed: Difference in Propotions\n",
    "diff_of_prop_observed = callback_rate_w - callback_rate_b\n",
    "\n",
    "# Select n replicates of the w and b datasets and store the difference in callback rate.\n",
    "n = 500\n",
    "replicates = np.empty(n)\n",
    "\n",
    "for i in range(n):\n",
    "    repl_w = w.sample(n=sample_size_w, replace=True)\n",
    "    repl_b = b.sample(n=sample_size_b, replace=True)\n",
    "    \n",
    "    repl_callb_w = calc_sample_size_and_callback_rate(repl_w)[1]\n",
    "    repl_callb_b = calc_sample_size_and_callback_rate(repl_b)[1]\n",
    "    \n",
    "    replicates[i] = repl_callb_w - repl_callb_b\n",
    "    \n",
    "p_value = sum(replicates < 0) / n\n",
    "conf_int_95 = np.percentile(replicates, [2.5, 97.5])\n",
    "print('the p-value is %.2f and the 95%% confidence interval is' % p_value, conf_int_95)"
   ]
  },
  {
   "cell_type": "code",
   "execution_count": 9,
   "metadata": {},
   "outputs": [
    {
     "data": {
      "image/png": "[encoded data removed]",
      "text/plain": [
       "<Figure size 432x288 with 1 Axes>"
      ]
     },
     "metadata": {
      "needs_background": "light"
     },
     "output_type": "display_data"
    }
   ],
   "source": [
    "# Plot this distribution\n",
    "import matplotlib.pyplot as plt\n",
    "\n",
    "plt.hist(replicates, bins=int(n**0.5))\n",
    "#plt.plot(replicates, marker='.', linestyle='none', alpha=0.5)\n",
    "plt.title('Diff. in w and b callback rates\\nof replicates')\n",
    "plt.xlabel('Delta callback rate w - b')\n",
    "plt.xlim(left=-0.01)\n",
    "plt.axvline(x=0, color='r', alpha=0.5)\n",
    "plt.ylabel('Replicate freq.')\n",
    "plt.show()"
   ]
  },
  {
   "cell_type": "markdown",
   "metadata": {},
   "source": [
    "<div class=\"span5 alert alert-success\">\n",
    "<p>\n",
    "<h1>Answer 3</h1>    \n",
    "The analysis has been performed using frequentist (Chi-squared) and bootstrapping methods.<br>\n",
    "<b>Outcome:</b> Both methods indicate that the null-hypothesis is to be rejected.\n",
    "</div>"
   ]
  },
  {
   "cell_type": "markdown",
   "metadata": {},
   "source": [
    "<div class=\"span5 alert alert-success\">\n",
    "<p>\n",
    "<h1>Answer 4</h1>    \n",
    "There is a statistically significant difference between the call-back rates experienced by white-sounding and black-sounding job applicants. The difference is about 3 percentage points.\n",
    "<h1>Answer 5</h1>    \n",
    "This analysis does not indicate the relative important is this one variable compared to others. The dataset contains many variables. The analysis can be repeates for other categorical variables, and with other methods for continuous variables.\n",
    "</div>"
   ]
  }
 ],
 "metadata": {
  "kernelspec": {
   "display_name": "Python 3",
   "language": "python",
   "name": "python3"
  },
  "language_info": {
   "codemirror_mode": {
    "name": "ipython",
    "version": 3
   },
   "file_extension": ".py",
   "mimetype": "text/x-python",
   "name": "python",
   "nbconvert_exporter": "python",
   "pygments_lexer": "ipython3",
   "version": "3.7.2"
  }
 },
 "nbformat": 4,
 "nbformat_minor": 1
}
